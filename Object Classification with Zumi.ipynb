{
 "cells": [
  {
   "cell_type": "markdown",
   "metadata": {},
   "source": [
    "# So how self-driving cars learn how to see? "
   ]
  },
  {
   "cell_type": "markdown",
   "metadata": {},
   "source": [
    "The main technique used by the big companies working on self driving cars is call deep learning. Here we are going to train a relatively simple computer vision model with data taken from Zumi"
   ]
  },
  {
   "cell_type": "code",
   "execution_count": 1,
   "metadata": {},
   "outputs": [
    {
     "name": "stderr",
     "output_type": "stream",
     "text": [
      "/opt/tljh/user/lib/python3.6/site-packages/tensorflow/python/framework/dtypes.py:523: FutureWarning: Passing (type, 1) or '1type' as a synonym of type is deprecated; in a future version of numpy, it will be understood as (type, (1,)) / '(1,)type'.\n",
      "  _np_qint8 = np.dtype([(\"qint8\", np.int8, 1)])\n",
      "/opt/tljh/user/lib/python3.6/site-packages/tensorflow/python/framework/dtypes.py:524: FutureWarning: Passing (type, 1) or '1type' as a synonym of type is deprecated; in a future version of numpy, it will be understood as (type, (1,)) / '(1,)type'.\n",
      "  _np_quint8 = np.dtype([(\"quint8\", np.uint8, 1)])\n",
      "/opt/tljh/user/lib/python3.6/site-packages/tensorflow/python/framework/dtypes.py:525: FutureWarning: Passing (type, 1) or '1type' as a synonym of type is deprecated; in a future version of numpy, it will be understood as (type, (1,)) / '(1,)type'.\n",
      "  _np_qint16 = np.dtype([(\"qint16\", np.int16, 1)])\n",
      "/opt/tljh/user/lib/python3.6/site-packages/tensorflow/python/framework/dtypes.py:526: FutureWarning: Passing (type, 1) or '1type' as a synonym of type is deprecated; in a future version of numpy, it will be understood as (type, (1,)) / '(1,)type'.\n",
      "  _np_quint16 = np.dtype([(\"quint16\", np.uint16, 1)])\n",
      "/opt/tljh/user/lib/python3.6/site-packages/tensorflow/python/framework/dtypes.py:527: FutureWarning: Passing (type, 1) or '1type' as a synonym of type is deprecated; in a future version of numpy, it will be understood as (type, (1,)) / '(1,)type'.\n",
      "  _np_qint32 = np.dtype([(\"qint32\", np.int32, 1)])\n",
      "/opt/tljh/user/lib/python3.6/site-packages/tensorflow/python/framework/dtypes.py:532: FutureWarning: Passing (type, 1) or '1type' as a synonym of type is deprecated; in a future version of numpy, it will be understood as (type, (1,)) / '(1,)type'.\n",
      "  np_resource = np.dtype([(\"resource\", np.ubyte, 1)])\n"
     ]
    }
   ],
   "source": [
    "#from pyimagesearch.trafficsignnet import TrafficSignNet\n",
    "from zumicloud.zumimlcloudutils import download_dataset_from_cloud, send_model_to_cloud\n",
    "from tensorflow.keras.preprocessing.image import ImageDataGenerator\n",
    "from tensorflow.keras.optimizers import Adam\n",
    "from tensorflow.keras.utils import to_categorical\n",
    "from sklearn.metrics import classification_report, confusion_matrix\n",
    "from skimage import transform\n",
    "from skimage import exposure\n",
    "from skimage import io\n",
    "import matplotlib.pyplot as plt\n",
    "import numpy as np\n",
    "import argparse\n",
    "import random\n",
    "import pathlib\n",
    "import os"
   ]
  },
  {
   "cell_type": "markdown",
   "metadata": {},
   "source": [
    "## Get Data from the cloud"
   ]
  },
  {
   "cell_type": "code",
   "execution_count": 3,
   "metadata": {},
   "outputs": [
    {
     "ename": "FileExistsError",
     "evalue": "[Errno 17] File exists: '/home/jupyter-zumimladmin/dataset'",
     "output_type": "error",
     "traceback": [
      "\u001b[0;31m---------------------------------------------------------------------------\u001b[0m",
      "\u001b[0;31mFileExistsError\u001b[0m                           Traceback (most recent call last)",
      "\u001b[0;32m<ipython-input-3-c8467f22efb6>\u001b[0m in \u001b[0;36m<module>\u001b[0;34m\u001b[0m\n\u001b[1;32m      3\u001b[0m \u001b[0mdataset_directory\u001b[0m \u001b[0;34m=\u001b[0m \u001b[0;34m'dataset'\u001b[0m\u001b[0;34m\u001b[0m\u001b[0;34m\u001b[0m\u001b[0m\n\u001b[1;32m      4\u001b[0m \u001b[0;34m\u001b[0m\u001b[0m\n\u001b[0;32m----> 5\u001b[0;31m \u001b[0mdownloaded\u001b[0m \u001b[0;34m=\u001b[0m \u001b[0mdownload_dataset_from_cloud\u001b[0m\u001b[0;34m(\u001b[0m\u001b[0mdataset_name\u001b[0m\u001b[0;34m,\u001b[0m \u001b[0mdataset_directory\u001b[0m\u001b[0;34m)\u001b[0m\u001b[0;34m\u001b[0m\u001b[0;34m\u001b[0m\u001b[0m\n\u001b[0m\u001b[1;32m      6\u001b[0m \u001b[0;34m\u001b[0m\u001b[0m\n\u001b[1;32m      7\u001b[0m \u001b[0;32mif\u001b[0m \u001b[0mdownloaded\u001b[0m\u001b[0;34m:\u001b[0m\u001b[0;34m\u001b[0m\u001b[0;34m\u001b[0m\u001b[0m\n",
      "\u001b[0;32m~/zumicloud/zumimlcloudutils.py\u001b[0m in \u001b[0;36mdownload_dataset_from_cloud\u001b[0;34m(dataset_zip_name, dataset_directory)\u001b[0m\n\u001b[1;32m     58\u001b[0m     \u001b[0mpath\u001b[0m \u001b[0;34m=\u001b[0m \u001b[0mos\u001b[0m\u001b[0;34m.\u001b[0m\u001b[0mgetcwd\u001b[0m\u001b[0;34m(\u001b[0m\u001b[0;34m)\u001b[0m \u001b[0;34m+\u001b[0m \u001b[0;34m'/'\u001b[0m \u001b[0;34m+\u001b[0m \u001b[0mdataset_directory\u001b[0m\u001b[0;34m\u001b[0m\u001b[0;34m\u001b[0m\u001b[0m\n\u001b[1;32m     59\u001b[0m \u001b[0;34m\u001b[0m\u001b[0m\n\u001b[0;32m---> 60\u001b[0;31m     \u001b[0mos\u001b[0m\u001b[0;34m.\u001b[0m\u001b[0mmkdir\u001b[0m\u001b[0;34m(\u001b[0m\u001b[0mpath\u001b[0m\u001b[0;34m)\u001b[0m\u001b[0;34m\u001b[0m\u001b[0;34m\u001b[0m\u001b[0m\n\u001b[0m\u001b[1;32m     61\u001b[0m \u001b[0;34m\u001b[0m\u001b[0m\n\u001b[1;32m     62\u001b[0m     \u001b[0mbucket\u001b[0m \u001b[0;34m=\u001b[0m \u001b[0;34m'zumidatasets'\u001b[0m\u001b[0;34m\u001b[0m\u001b[0;34m\u001b[0m\u001b[0m\n",
      "\u001b[0;31mFileExistsError\u001b[0m: [Errno 17] File exists: '/home/jupyter-zumimladmin/dataset'"
     ]
    }
   ],
   "source": [
    "dataset_name = 'data.zip'\n",
    "\n",
    "dataset_directory = 'dataset'\n",
    "\n",
    "downloaded = download_dataset_from_cloud(dataset_name, dataset_directory)\n",
    "\n",
    "if downloaded:\n",
    "    print(\"Zumi has data for learning\")"
   ]
  },
  {
   "cell_type": "markdown",
   "metadata": {},
   "source": [
    "## Load Data for training"
   ]
  },
  {
   "cell_type": "code",
   "execution_count": 2,
   "metadata": {
    "scrolled": true
   },
   "outputs": [
    {
     "name": "stdout",
     "output_type": "stream",
     "text": [
      "120\n",
      "[3, 1, 0, 2, 2, 5, 0, 3, 0, 1, 3, 0, 4, 2, 4, 5, 2, 1, 0, 5, 5, 5, 1, 3, 4, 2, 0, 1, 1, 0, 3, 2, 2, 3, 3, 4, 1, 2, 3, 5, 4, 5, 1, 5, 2, 4, 3, 4, 4, 1, 2, 0, 1, 0, 3, 5, 4, 5, 3, 0, 3, 3, 1, 0, 4, 3, 4, 3, 5, 5, 2, 0, 4, 4, 2, 5, 0, 2, 1, 1, 1, 0, 5, 2, 2, 4, 2, 0, 4, 1, 3, 5, 4, 5, 0, 1, 5, 2, 4, 4, 0, 1, 4, 0, 1, 2, 4, 5, 0, 1, 3, 2, 5, 3, 0, 3, 1, 5, 3, 2]\n",
      "57\n",
      "[0, 3, 2, 4, 0, 1, 2, 1, 3, 5, 5, 4, 2, 2, 5, 5, 0, 2, 3, 5, 0, 1, 2, 3, 0, 5, 4, 2, 1, 3, 0, 0, 2, 4, 3, 2, 5, 1, 3, 2, 4, 3, 1, 1, 4, 3, 4, 3, 5, 5, 2, 5, 3, 0, 4, 5, 4]\n",
      "['Ahead', 'Left', 'Novehicles', 'Right', 'Stop', 'Signals']\n",
      "{'Ahead': 0, 'Left': 1, 'Novehicles': 2, 'Right': 3, 'Stop': 4, 'Signals': 5}\n"
     ]
    }
   ],
   "source": [
    "dataset_directory = 'dataset'\n",
    "\n",
    "### Training data\n",
    "\n",
    "data_path_train = os.getcwd() +'/'+ dataset_directory + '/' + 'train'\n",
    "\n",
    "data_dir_train = pathlib.Path(data_path_train)\n",
    "\n",
    "train_images = list(data_dir_train.glob('*/*'))\n",
    "train_images = [str(path) for path in train_images]\n",
    "random.shuffle(train_images)\n",
    " \n",
    "#label_names = np.array([item.name for item in data_dir_train.glob('*')])\n",
    "label_names = [item.name for item in data_dir_train.glob('*') if item.name != '.ipynb_checkpoints']\n",
    "\n",
    "label_dict = {name: i for (i,name) in enumerate(label_names)}\n",
    "\n",
    "train_labels=[label_dict[pathlib.Path(path).parent.name] for path in train_images]\n",
    " \n",
    "data_size=len(train_images)\n",
    "\n",
    "print(data_size)\n",
    "print(train_labels)\n",
    "\n",
    "### Testing data\n",
    "\n",
    "data_path_test = os.getcwd() +'/'+ dataset_directory + '/' + 'test'\n",
    "\n",
    "data_dir_test = pathlib.Path(data_path_test)\n",
    "\n",
    "test_images = list(data_dir_test.glob('*/*'))\n",
    "test_images = [str(path) for path in test_images]\n",
    "random.shuffle(test_images)\n",
    "\n",
    "test_labels=[label_dict[pathlib.Path(path).parent.name] for path in test_images]\n",
    " \n",
    "test_data_size=len(test_images)\n",
    "\n",
    "print(test_data_size)\n",
    "print(test_labels)\n",
    "print(label_names)\n",
    "print(label_dict)"
   ]
  },
  {
   "cell_type": "markdown",
   "metadata": {},
   "source": [
    "### Image Preprocessing"
   ]
  },
  {
   "cell_type": "code",
   "execution_count": 3,
   "metadata": {},
   "outputs": [],
   "source": [
    "IMG_SIZE=32\n",
    "\n",
    "BATCH_SIZE = 64\n",
    "\n",
    "\n",
    "def load_split(x, y):\n",
    "\t# initialize the list of data and labels\n",
    "\tdata = []\n",
    "\tlabels = []\n",
    "\n",
    "\t# loop over the rows of the CSV file\n",
    "\tfor (i, imagepath) in enumerate(x):\n",
    "\t\t# check to see if we should show a status update\n",
    "\n",
    "\t\t# split the row into components and then grab the class ID\n",
    "\t\t# and image path\n",
    "\t\timage = io.imread(imagepath)\n",
    "\n",
    "\t\t# resize the image to be 32x32 pixels, ignoring aspect ratio,\n",
    "\t\t# and then perform Contrast Limited Adaptive Histogram\n",
    "\t\t# Equalization (CLAHE)\n",
    "\t\timage = transform.resize(image, (IMG_SIZE, IMG_SIZE))\n",
    "\t\timage = exposure.equalize_adapthist(image, clip_limit=0.1)\n",
    "\n",
    "\t\t# update the list of data and labels, respectively\n",
    "\t\tdata.append(image)\n",
    "\t\tlabels.append(int(y[i]))\n",
    "\n",
    "\t# convert the data and labels to NumPy arrays\n",
    "\tdata = np.array(data)\n",
    "\tlabels = np.array(labels)\n",
    "\n",
    "\t# return a tuple of the data and labels\n",
    "\treturn (data, labels)\n",
    "\n",
    "(x_train, y_train) = load_split(train_images, train_labels)\n",
    "(x_test, y_test) = load_split(test_images, test_labels)\n",
    "\n",
    "# scale data to the range of [0, 1]\n",
    "x_train = x_train.astype(\"float32\") / 255.0\n",
    "x_test = x_test.astype(\"float32\") / 255.0\n",
    " \n",
    "# one-hot encode the training and testing labels\n",
    "numLabels  = len(label_names)\n",
    "y_train = to_categorical(y_train, numLabels)\n",
    "y_test = to_categorical(y_test, numLabels)\n",
    " \n",
    "# account for skew in the labeled data\n",
    "classTotals = y_train.sum(axis=0)\n",
    "classWeight = classTotals.max() / classTotals"
   ]
  },
  {
   "cell_type": "markdown",
   "metadata": {},
   "source": [
    "## Build deep learning model"
   ]
  },
  {
   "cell_type": "code",
   "execution_count": 4,
   "metadata": {},
   "outputs": [],
   "source": [
    "from tensorflow.keras.models import Sequential\n",
    "from tensorflow.keras.layers import BatchNormalization\n",
    "from tensorflow.keras.layers import Conv2D\n",
    "from tensorflow.keras.layers import MaxPooling2D\n",
    "from tensorflow.keras.layers import Activation\n",
    "from tensorflow.keras.layers import Flatten\n",
    "from tensorflow.keras.layers import Dropout\n",
    "from tensorflow.keras.layers import Dense\n",
    "\n",
    "\n",
    "def build(width, height, depth, classes):\n",
    "\t# initialize the model along with the input shape to be\n",
    "\t# \"channels last\" and the channels dimension itself\n",
    "\tmodel = Sequential()\n",
    "\tinputShape = (height, width, depth)\n",
    "\tchanDim = -1\n",
    "\n",
    "\t# CONV => RELU => BN => POOL\n",
    "\tmodel.add(Conv2D(8, (5, 5), padding=\"same\",\n",
    "\t\tinput_shape=inputShape))\n",
    "\tmodel.add(Activation(\"relu\"))\n",
    "\tmodel.add(BatchNormalization(axis=chanDim))\n",
    "\tmodel.add(MaxPooling2D(pool_size=(2, 2)))\n",
    "\n",
    "\t# first set of (CONV => RELU => CONV => RELU) * 2 => POOL\n",
    "\tmodel.add(Conv2D(16, (3, 3), padding=\"same\"))\n",
    "\tmodel.add(Activation(\"relu\"))\n",
    "\tmodel.add(BatchNormalization(axis=chanDim))\n",
    "\tmodel.add(Conv2D(16, (3, 3), padding=\"same\"))\n",
    "\tmodel.add(Activation(\"relu\"))\n",
    "\tmodel.add(BatchNormalization(axis=chanDim))\n",
    "\tmodel.add(MaxPooling2D(pool_size=(2, 2)))\n",
    "\n",
    "\t# second set of (CONV => RELU => CONV => RELU) * 2 => POOL\n",
    "\tmodel.add(Conv2D(32, (3, 3), padding=\"same\"))\n",
    "\tmodel.add(Activation(\"relu\"))\n",
    "\tmodel.add(BatchNormalization(axis=chanDim))\n",
    "\tmodel.add(Conv2D(32, (3, 3), padding=\"same\"))\n",
    "\tmodel.add(Activation(\"relu\"))\n",
    "\tmodel.add(BatchNormalization(axis=chanDim))\n",
    "\tmodel.add(MaxPooling2D(pool_size=(2, 2)))\n",
    "\n",
    "\t# first set of FC => RELU layers\n",
    "\tmodel.add(Flatten())\n",
    "\tmodel.add(Dense(128))\n",
    "\tmodel.add(Activation(\"relu\"))\n",
    "\tmodel.add(BatchNormalization())\n",
    "\tmodel.add(Dropout(0.5))\n",
    "\n",
    "\t# second set of FC => RELU layers\n",
    "\tmodel.add(Flatten())\n",
    "\tmodel.add(Dense(128))\n",
    "\tmodel.add(Activation(\"relu\"))\n",
    "\tmodel.add(BatchNormalization())\n",
    "\tmodel.add(Dropout(0.5))\n",
    "\n",
    "\t# softmax classifier\n",
    "\tmodel.add(Dense(classes))\n",
    "\tmodel.add(Activation(\"softmax\"))\n",
    "\n",
    "\t\t# return the constructed network architecture\n",
    "\treturn model"
   ]
  },
  {
   "cell_type": "code",
   "execution_count": 5,
   "metadata": {},
   "outputs": [],
   "source": [
    "model = build(width=32, height=32, depth=3,\n",
    "\tclasses=numLabels)"
   ]
  },
  {
   "cell_type": "code",
   "execution_count": 6,
   "metadata": {
    "scrolled": true
   },
   "outputs": [],
   "source": [
    "NUM_EPOCHS = 20\n",
    "INIT_LR = 1e-3\n",
    "BS = 10\n",
    "\n",
    "opt = Adam(lr=INIT_LR, decay=INIT_LR / (NUM_EPOCHS * 0.5))\n",
    "\n",
    "model.compile(loss=\"categorical_crossentropy\", optimizer=opt,\n",
    "\tmetrics=[\"accuracy\"])\n",
    "\n",
    "aug = ImageDataGenerator(\n",
    "\trotation_range=5,\n",
    "\tzoom_range=0.15,\n",
    "\twidth_shift_range=0.1,\n",
    "\theight_shift_range=0.1,\n",
    "\tshear_range=0.25,\n",
    "\thorizontal_flip=False,\n",
    "\tvertical_flip=False,\n",
    "\tfill_mode=\"nearest\")"
   ]
  },
  {
   "cell_type": "markdown",
   "metadata": {},
   "source": [
    "## Train Model"
   ]
  },
  {
   "cell_type": "code",
   "execution_count": 7,
   "metadata": {},
   "outputs": [
    {
     "name": "stdout",
     "output_type": "stream",
     "text": [
      "Epoch 1/20\n",
      "100/100 [==============================] - 9s 88ms/step - loss: 2.0966 - acc: 0.3280 - val_loss: 2.2281 - val_acc: 0.1930\n",
      "Epoch 2/20\n",
      "100/100 [==============================] - 5s 49ms/step - loss: 1.1615 - acc: 0.5810 - val_loss: 3.2102 - val_acc: 0.1930\n",
      "Epoch 3/20\n",
      "100/100 [==============================] - 5s 49ms/step - loss: 0.7828 - acc: 0.7120 - val_loss: 4.4334 - val_acc: 0.1930\n",
      "Epoch 4/20\n",
      "100/100 [==============================] - 5s 49ms/step - loss: 0.5229 - acc: 0.8280 - val_loss: 4.9114 - val_acc: 0.1930\n",
      "Epoch 5/20\n",
      "100/100 [==============================] - 5s 52ms/step - loss: 0.4503 - acc: 0.8380 - val_loss: 4.0454 - val_acc: 0.1930\n",
      "Epoch 6/20\n",
      "100/100 [==============================] - 5s 53ms/step - loss: 0.2906 - acc: 0.8990 - val_loss: 3.0811 - val_acc: 0.2456\n",
      "Epoch 7/20\n",
      "100/100 [==============================] - 5s 54ms/step - loss: 0.3215 - acc: 0.8940 - val_loss: 0.5468 - val_acc: 0.8421\n",
      "Epoch 8/20\n",
      "100/100 [==============================] - 5s 52ms/step - loss: 0.2289 - acc: 0.9240 - val_loss: 0.1710 - val_acc: 0.9825\n",
      "Epoch 9/20\n",
      "100/100 [==============================] - 5s 52ms/step - loss: 0.1937 - acc: 0.9360 - val_loss: 0.1338 - val_acc: 0.9649\n",
      "Epoch 10/20\n",
      "100/100 [==============================] - 5s 53ms/step - loss: 0.1847 - acc: 0.9320 - val_loss: 0.1416 - val_acc: 0.9649\n",
      "Epoch 11/20\n",
      "100/100 [==============================] - 5s 50ms/step - loss: 0.1574 - acc: 0.9430 - val_loss: 0.1791 - val_acc: 0.9825\n",
      "Epoch 12/20\n",
      "100/100 [==============================] - 5s 51ms/step - loss: 0.1654 - acc: 0.9480 - val_loss: 0.2597 - val_acc: 0.9123\n",
      "Epoch 13/20\n",
      "100/100 [==============================] - 5s 50ms/step - loss: 0.1076 - acc: 0.9680 - val_loss: 0.1292 - val_acc: 0.9649\n",
      "Epoch 14/20\n",
      "100/100 [==============================] - 5s 50ms/step - loss: 0.1292 - acc: 0.9520 - val_loss: 0.2400 - val_acc: 0.9474\n",
      "Epoch 15/20\n",
      "100/100 [==============================] - 5s 51ms/step - loss: 0.1213 - acc: 0.9600 - val_loss: 0.2251 - val_acc: 0.9298\n",
      "Epoch 16/20\n",
      "100/100 [==============================] - 5s 51ms/step - loss: 0.0974 - acc: 0.9690 - val_loss: 0.1324 - val_acc: 0.9474\n",
      "Epoch 17/20\n",
      "100/100 [==============================] - 5s 49ms/step - loss: 0.0908 - acc: 0.9730 - val_loss: 0.1624 - val_acc: 0.9298\n",
      "Epoch 18/20\n",
      "100/100 [==============================] - 5s 52ms/step - loss: 0.0765 - acc: 0.9750 - val_loss: 0.1461 - val_acc: 0.9649\n",
      "Epoch 19/20\n",
      "100/100 [==============================] - 5s 49ms/step - loss: 0.0793 - acc: 0.9720 - val_loss: 0.1561 - val_acc: 0.9474\n",
      "Epoch 20/20\n",
      "100/100 [==============================] - 5s 53ms/step - loss: 0.0769 - acc: 0.9760 - val_loss: 0.1710 - val_acc: 0.9298\n"
     ]
    }
   ],
   "source": [
    "H = model.fit_generator(\n",
    "\taug.flow(x_train, y_train, batch_size=BS),\n",
    "\tvalidation_data=(x_test, y_test),\n",
    "\tsteps_per_epoch=100,\n",
    "\tepochs=NUM_EPOCHS,\n",
    "\tclass_weight=classWeight,\n",
    "\tverbose=1)\n"
   ]
  },
  {
   "cell_type": "markdown",
   "metadata": {},
   "source": [
    "### Evaluating Model"
   ]
  },
  {
   "cell_type": "code",
   "execution_count": 21,
   "metadata": {},
   "outputs": [
    {
     "name": "stdout",
     "output_type": "stream",
     "text": [
      "[INFO] evaluating network...\n",
      "              precision    recall  f1-score   support\n",
      "\n",
      "       Ahead       1.00      0.88      0.93         8\n",
      "        Left       0.86      0.86      0.86         7\n",
      "  Novehicles       0.90      0.82      0.86        11\n",
      "       Right       1.00      1.00      1.00        11\n",
      "        Stop       1.00      1.00      1.00         9\n",
      "     Signals       0.85      1.00      0.92        11\n",
      "\n",
      "    accuracy                           0.93        57\n",
      "   macro avg       0.93      0.93      0.93        57\n",
      "weighted avg       0.93      0.93      0.93        57\n",
      "\n"
     ]
    },
    {
     "data": {
      "image/png": "[encoded data removed]",
      "text/plain": [
       "<Figure size 432x288 with 2 Axes>"
      ]
     },
     "metadata": {},
     "output_type": "display_data"
    },
    {
     "data": {
      "image/png": "[encoded data removed]",
      "text/plain": [
       "<Figure size 432x288 with 1 Axes>"
      ]
     },
     "metadata": {},
     "output_type": "display_data"
    }
   ],
   "source": [
    "print(\"[INFO] evaluating network...\")\n",
    "predictions = model.predict(x_test, batch_size=BS)\n",
    "print(classification_report(y_test.argmax(axis=1),\n",
    "\tpredictions.argmax(axis=1), target_names=label_names))\n",
    "\n",
    "cm = confusion_matrix(y_test.argmax(axis=1),predictions.argmax(axis=1))\n",
    "\n",
    "fig = plt.figure()\n",
    "ax = fig.add_subplot(111)\n",
    "cax = ax.matshow(cm)\n",
    "plt.title('Confusion matrix of the classifier')\n",
    "fig.colorbar(cax)\n",
    "ax.set_xticklabels([''] + label_names)\n",
    "ax.set_yticklabels([''] + label_names)\n",
    "plt.xlabel('Predicted')\n",
    "plt.ylabel('True')\n",
    "plt.show()\n",
    "# save the network to disk\n",
    "#model.save('trafficsignmodel.h5')\n",
    "#print(\"[INFO] serializing network to '{}'...\".format(args[\"model\"]))\n",
    "#model.save(args[\"model\"])\n",
    "\n",
    "# plot the training loss and accuracy\n",
    "N = np.arange(0, NUM_EPOCHS)\n",
    "plt.style.use(\"ggplot\")\n",
    "plt.figure()\n",
    "plt.plot(N, H.history[\"loss\"], label=\"train_loss\")\n",
    "plt.plot(N, H.history[\"val_loss\"], label=\"val_loss\")\n",
    "plt.plot(N, H.history[\"acc\"], label=\"train_acc\")\n",
    "plt.plot(N, H.history[\"val_acc\"], label=\"val_acc\")\n",
    "plt.title(\"Training Loss and Accuracy on Dataset\")\n",
    "plt.xlabel(\"Epoch #\")\n",
    "plt.ylabel(\"Loss/Accuracy\")\n",
    "plt.legend(loc=\"lower left\")\n",
    "plt.show()"
   ]
  },
  {
   "cell_type": "markdown",
   "metadata": {},
   "source": [
    "## Save model"
   ]
  },
  {
   "cell_type": "code",
   "execution_count": 22,
   "metadata": {},
   "outputs": [],
   "source": [
    "model_name = 'trafficsigns'\n",
    "\n",
    "model_path = os.getcwd() + '/' + model_name\n",
    "\n",
    "os.mkdir(model_path)\n",
    "\n",
    "model.save_weights(model_path + '/' + model_name + 'weights.h5')\n",
    "model_json = model.to_json()\n",
    "with open(model_path + '/' + model_name +'.json',\"w\") as json_file:\n",
    "    json_file.write(model_json)\n",
    "json_file.close()"
   ]
  },
  {
   "cell_type": "markdown",
   "metadata": {},
   "source": [
    "## Upload Model to the cloud"
   ]
  },
  {
   "cell_type": "code",
   "execution_count": 23,
   "metadata": {},
   "outputs": [
    {
     "name": "stdout",
     "output_type": "stream",
     "text": [
      "Your model was uploaded to the cloud\n"
     ]
    }
   ],
   "source": [
    "uploaded = send_model_to_cloud(model_name)\n",
    "\n",
    "if uploaded:\n",
    "    print('Your model was uploaded to the cloud')"
   ]
  }
 ],
 "metadata": {
  "kernelspec": {
   "display_name": "Python 3",
   "language": "python",
   "name": "python3"
  },
  "language_info": {
   "codemirror_mode": {
    "name": "ipython",
    "version": 3
   },
   "file_extension": ".py",
   "mimetype": "text/x-python",
   "name": "python",
   "nbconvert_exporter": "python",
   "pygments_lexer": "ipython3",
   "version": "3.6.7"
  }
 },
 "nbformat": 4,
 "nbformat_minor": 2
}
